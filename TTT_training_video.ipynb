{
 "cells": [
  {
   "cell_type": "code",
   "execution_count": 1,
   "metadata": {},
   "outputs": [],
   "source": [
    "from tictactoe import TicTacToe\n",
    "from qlearning import QLearning\n",
    "\n",
    "game = TicTacToe()\n",
    "qc = QLearning()\n",
    "qx = QLearning()"
   ]
  },
  {
   "cell_type": "code",
   "execution_count": 2,
   "metadata": {},
   "outputs": [],
   "source": [
    "m = 0\n",
    "image_files = []\n",
    "for i in range(25):\n",
    "    ind = str(int(i*2000000))\n",
    "    title = f'第{2*i}m次訓練'\n",
    "    qc.load_q_table(f'model/{ind}_circle.pkl')\n",
    "    qx.load_q_table(f'model/{ind}_cross.pkl')\n",
    "    qc.set_er(0)\n",
    "    qx.set_er(0)\n",
    "    game = TicTacToe()\n",
    "    while not game.check_winner():\n",
    "        for q in [qc, qx]:\n",
    "            game.make_move(q.choose_action(game.board.copy(), game.available_moves()))\n",
    "            game.display_to_image_title(f'img_{m}', title)\n",
    "            image_files.append(f'images/img_{m}.png')\n",
    "            m += 1\n",
    "            winner = game.check_winner()\n",
    "            if winner:\n",
    "                # 游戏结束，添加一张显示获胜者的图像\n",
    "                victory_title = f'{title} - 贏家: {winner}'\n",
    "                game.display_to_image_title(f'img_{m}', victory_title)\n",
    "                image_files.append(f'images/img_{m}.png')\n",
    "                m += 1\n",
    "                # print(winner)\n",
    "                break\n"
   ]
  },
  {
   "cell_type": "code",
   "execution_count": 3,
   "metadata": {},
   "outputs": [
    {
     "name": "stdout",
     "output_type": "stream",
     "text": [
      "Moviepy - Building video gameplay_video.mp4.\n",
      "Moviepy - Writing video gameplay_video.mp4\n",
      "\n"
     ]
    },
    {
     "name": "stderr",
     "output_type": "stream",
     "text": [
      "                                                               "
     ]
    },
    {
     "name": "stdout",
     "output_type": "stream",
     "text": [
      "Moviepy - Done !\n",
      "Moviepy - video ready gameplay_video.mp4\n"
     ]
    },
    {
     "name": "stderr",
     "output_type": "stream",
     "text": [
      "\r"
     ]
    }
   ],
   "source": [
    "# 将图像文件名列表转换为视频\n",
    "from moviepy.editor import ImageSequenceClip\n",
    "\n",
    "clip = ImageSequenceClip(image_files, fps=1)\n",
    "clip.write_videofile(\"gameplay_video.mp4\")"
   ]
  }
 ],
 "metadata": {
  "kernelspec": {
   "display_name": "Python 3",
   "language": "python",
   "name": "python3"
  },
  "language_info": {
   "codemirror_mode": {
    "name": "ipython",
    "version": 3
   },
   "file_extension": ".py",
   "mimetype": "text/x-python",
   "name": "python",
   "nbconvert_exporter": "python",
   "pygments_lexer": "ipython3",
   "version": "3.11.6"
  }
 },
 "nbformat": 4,
 "nbformat_minor": 2
}
